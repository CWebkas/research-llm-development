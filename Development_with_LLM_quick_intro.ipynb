{
  "cells": [
    {
      "cell_type": "markdown",
      "source": [
        "## LLM Motivation\n",
        "\n",
        "[![Open In Colab](https://colab.research.google.com/assets/colab-badge.svg)](https://colab.research.google.com/github//velebit-ai/research-llm-development/blob/master/Development_with_LLM_quick_intro.ipynb)\n",
        "\n",
        "**Why are we here?**\n",
        "\n",
        "- **The paradigm has changed** how we approach machine learning projects\n",
        "- **Old way**\n",
        "    - collect labeled data\n",
        "    - train a supervised machine learning model (most common)\n",
        "    - It takes time, effort, and expertize\n",
        "- **New way**\n",
        "    - start with few-shot and zero-shot learning (i.e. prompt engineering)\n",
        "    - try something fast with an API or a free LLM\n",
        "    - do the old way later on when you see you need it\n",
        "    - LLMs augmented by external knowledge and tools\n",
        "    - but, a lot of messy engineering effort for the last mile\n",
        "    - lack of exact control\n",
        "- **Types of model training tasks**\n",
        "    - next word prediction on unlabeled texts\n",
        "        - Internet scale, costly\n",
        "        - base model development\n",
        "    - supervised fine-tuning (instruct and chat models)\n",
        "        - collect prompt-response pairs\n",
        "        - common and efficient\n",
        "        - also next word prediction, but on prepared data\n",
        "        - gets the \"autistic\" base model to show its knowledge\n",
        "    - RLHF (and similar)\n",
        "        - reinforcement learning addition\n",
        "        - collect triplets (prompt, response, better response)\n",
        "        - use comparison data to further improve on supervised fine-tuning\n",
        "        - more complex to do\n",
        "        - often supervised fine-tuning good enough\n",
        "\n",
        "**Some references**\n",
        "\n",
        "[State of GPT, Andrej Karpathy](https://www.youtube.com/watch?v=bZQun8Y4L2A&ab_channel=MicrosoftDeveloper)\n",
        "\n",
        "[Hacker's guide to LLMs](https://www.youtube.com/watch?v=jkrNMKz9pWU&ab_channel=JeremyHoward)\n",
        "\n",
        "[Deeplearning.ai short LLM courses](https://www.deeplearning.ai/short-courses/)\n",
        "\n",
        "[RLHF basics](https://huggingface.co/blog/rlhf)\n"
      ],
      "metadata": {
        "id": "ZQD31y9zaUwq"
      },
      "id": "ZQD31y9zaUwq"
    },
    {
      "cell_type": "markdown",
      "id": "e291b18d-a1f0-4068-9290-c9b937567e3e",
      "metadata": {
        "id": "e291b18d-a1f0-4068-9290-c9b937567e3e"
      },
      "source": [
        "## Quick intro into OpenAI API\n",
        "\n",
        "**Credits**\n",
        "\n",
        "Examples from Shawhin Talebi's [blog](https://towardsdatascience.com/cracking-open-the-openai-python-api-230e4cae7971) and [code](https://github.com/ShawhinT/YouTube-Blog/blob/main/LLMs/openai-api/openai-api-demo.ipynb), commit `632d2610a9fe7f628b77a61a0744080c0113a64d`"
      ]
    },
    {
      "cell_type": "markdown",
      "id": "f25acaea-c334-4254-8635-64270dc6c397",
      "metadata": {
        "id": "f25acaea-c334-4254-8635-64270dc6c397"
      },
      "source": [
        "### set-up"
      ]
    },
    {
      "cell_type": "code",
      "source": [
        "! pip install openai watermark -q"
      ],
      "metadata": {
        "id": "JTT-vDFVY31e"
      },
      "id": "JTT-vDFVY31e",
      "execution_count": 1,
      "outputs": []
    },
    {
      "cell_type": "code",
      "execution_count": 2,
      "id": "1edd17a3-6cde-4cdf-8f29-c9e1e533d390",
      "metadata": {
        "id": "1edd17a3-6cde-4cdf-8f29-c9e1e533d390"
      },
      "outputs": [],
      "source": [
        "import openai\n",
        "import time\n",
        "import watermark"
      ]
    },
    {
      "cell_type": "code",
      "source": [
        "%load_ext watermark"
      ],
      "metadata": {
        "id": "X1Ymtun0ZUI2"
      },
      "id": "X1Ymtun0ZUI2",
      "execution_count": 3,
      "outputs": []
    },
    {
      "cell_type": "code",
      "source": [
        "%watermark"
      ],
      "metadata": {
        "colab": {
          "base_uri": "https://localhost:8080/"
        },
        "id": "FR9yGmuVZXz9",
        "outputId": "e54707c0-0ddc-4a93-bae3-e7003e38166f"
      },
      "id": "FR9yGmuVZXz9",
      "execution_count": 4,
      "outputs": [
        {
          "output_type": "stream",
          "name": "stdout",
          "text": [
            "Last updated: 2023-10-10T04:50:54.767030+00:00\n",
            "\n",
            "Python implementation: CPython\n",
            "Python version       : 3.10.12\n",
            "IPython version      : 7.34.0\n",
            "\n",
            "Compiler    : GCC 11.4.0\n",
            "OS          : Linux\n",
            "Release     : 5.15.120+\n",
            "Machine     : x86_64\n",
            "Processor   : x86_64\n",
            "CPU cores   : 2\n",
            "Architecture: 64bit\n",
            "\n"
          ]
        }
      ]
    },
    {
      "cell_type": "code",
      "source": [
        "%watermark -iv"
      ],
      "metadata": {
        "colab": {
          "base_uri": "https://localhost:8080/"
        },
        "id": "NVLMwuLAZamh",
        "outputId": "652da819-fe62-481a-de40-427c4e071af5"
      },
      "id": "NVLMwuLAZamh",
      "execution_count": 5,
      "outputs": [
        {
          "output_type": "stream",
          "name": "stdout",
          "text": [
            "watermark: 2.4.3\n",
            "openai   : 0.28.1\n",
            "\n"
          ]
        }
      ]
    },
    {
      "cell_type": "code",
      "execution_count": 6,
      "id": "0b30b225-6b7c-48ca-8c13-05a75146d6ae",
      "metadata": {
        "id": "0b30b225-6b7c-48ca-8c13-05a75146d6ae"
      },
      "outputs": [],
      "source": [
        "# Use your OpenAI API key\n",
        "\n",
        "openai.api_key = \"your key\""
      ]
    },
    {
      "cell_type": "markdown",
      "id": "1c75b3c4-cce9-4d82-888c-078a4e9ae1fa",
      "metadata": {
        "id": "1c75b3c4-cce9-4d82-888c-078a4e9ae1fa"
      },
      "source": [
        "### Some OpenAI API calls"
      ]
    },
    {
      "cell_type": "markdown",
      "id": "100350ea-c690-49d3-84cc-84b192c18500",
      "metadata": {
        "id": "100350ea-c690-49d3-84cc-84b192c18500"
      },
      "source": [
        "##### First call"
      ]
    },
    {
      "cell_type": "code",
      "execution_count": 7,
      "id": "eb7a1c4f-b4dc-453f-8e63-bc016f2de35e",
      "metadata": {
        "id": "eb7a1c4f-b4dc-453f-8e63-bc016f2de35e"
      },
      "outputs": [],
      "source": [
        "# create a chat completion\n",
        "chat_completion = openai.ChatCompletion.create(model=\"gpt-3.5-turbo\",\n",
        "                                messages=[{\"role\": \"user\", \"content\": \"Listen to your\"}])"
      ]
    },
    {
      "cell_type": "code",
      "execution_count": 8,
      "id": "f6288eb8-03d7-45f5-9e40-3912afe2a39c",
      "metadata": {
        "id": "f6288eb8-03d7-45f5-9e40-3912afe2a39c",
        "outputId": "c8b7cc27-46a0-44e3-feec-15d509ec2f40",
        "colab": {
          "base_uri": "https://localhost:8080/"
        }
      },
      "outputs": [
        {
          "output_type": "execute_result",
          "data": {
            "text/plain": [
              "{'id': 'chatcmpl-87yznuXXFThb5SHGb5j4jye8zq99t',\n",
              " 'object': 'chat.completion',\n",
              " 'created': 1696913455,\n",
              " 'model': 'gpt-3.5-turbo-0613',\n",
              " 'choices': [<OpenAIObject at 0x7fa392978e00> JSON: {\n",
              "    \"index\": 0,\n",
              "    \"message\": {\n",
              "      \"role\": \"assistant\",\n",
              "      \"content\": \"heart. It holds the truth that your mind may try to question or ignore. Your heart knows what truly makes you happy, what fulfills you, and what brings you joy. Trust in its wisdom and guidance, even if it means going against rationality or societal expectations. Your heart knows the path that is right for you, so listen to it and follow its lead.\"\n",
              "    },\n",
              "    \"finish_reason\": \"stop\"\n",
              "  }],\n",
              " 'usage': <OpenAIObject at 0x7fa3799abb00> JSON: {\n",
              "   \"prompt_tokens\": 10,\n",
              "   \"completion_tokens\": 75,\n",
              "   \"total_tokens\": 85\n",
              " }}"
            ]
          },
          "metadata": {},
          "execution_count": 8
        }
      ],
      "source": [
        "chat_completion.to_dict()"
      ]
    },
    {
      "cell_type": "code",
      "execution_count": 9,
      "id": "340f7ccf-c599-443c-89d8-e509039d673b",
      "metadata": {
        "id": "340f7ccf-c599-443c-89d8-e509039d673b",
        "outputId": "4a40ad56-84e7-4eca-d998-d86081ab4d62",
        "colab": {
          "base_uri": "https://localhost:8080/"
        }
      },
      "outputs": [
        {
          "output_type": "stream",
          "name": "stdout",
          "text": [
            "heart. It holds the truth that your mind may try to question or ignore. Your heart knows what truly makes you happy, what fulfills you, and what brings you joy. Trust in its wisdom and guidance, even if it means going against rationality or societal expectations. Your heart knows the path that is right for you, so listen to it and follow its lead.\n"
          ]
        }
      ],
      "source": [
        "# print the chat completion\n",
        "print(chat_completion.choices[0].message.content)"
      ]
    },
    {
      "cell_type": "markdown",
      "id": "9b0e3b38-0bb2-48de-9d3f-ee5013f4a689",
      "metadata": {
        "tags": [],
        "id": "9b0e3b38-0bb2-48de-9d3f-ee5013f4a689"
      },
      "source": [
        "##### max tokens"
      ]
    },
    {
      "cell_type": "code",
      "execution_count": 10,
      "id": "cf02f54e-004e-409b-942d-74a4d855c2d5",
      "metadata": {
        "id": "cf02f54e-004e-409b-942d-74a4d855c2d5",
        "outputId": "beb0ca24-215c-4bdd-cea2-79982f6ac8ce",
        "colab": {
          "base_uri": "https://localhost:8080/"
        }
      },
      "outputs": [
        {
          "output_type": "stream",
          "name": "stdout",
          "text": [
            "heart\n"
          ]
        }
      ],
      "source": [
        "# create a chat completion\n",
        "chat_completion = openai.ChatCompletion.create(model=\"gpt-3.5-turbo\",\n",
        "                                messages=[{\"role\": \"user\", \"content\": \"Listen to your\"}],\n",
        "                                max_tokens = 1)\n",
        "\n",
        "# print the chat completion\n",
        "print(chat_completion.choices[0].message.content)"
      ]
    },
    {
      "cell_type": "markdown",
      "id": "800f966f-7370-46d3-ae12-c955565b9617",
      "metadata": {
        "id": "800f966f-7370-46d3-ae12-c955565b9617"
      },
      "source": [
        "##### n = number of chat completions"
      ]
    },
    {
      "cell_type": "code",
      "execution_count": 11,
      "id": "ad49735c-88c2-4563-a1c6-0020a8905e8e",
      "metadata": {
        "id": "ad49735c-88c2-4563-a1c6-0020a8905e8e",
        "outputId": "71bc144f-0647-41c4-82a4-889633758198",
        "colab": {
          "base_uri": "https://localhost:8080/"
        }
      },
      "outputs": [
        {
          "output_type": "stream",
          "name": "stdout",
          "text": [
            "inner voice\n",
            "intuition\n",
            "intuition\n",
            "heart.\n",
            "heart.\n"
          ]
        }
      ],
      "source": [
        "# create a chat completion\n",
        "chat_completion = openai.ChatCompletion.create(model=\"gpt-3.5-turbo\",\n",
        "                                messages=[{\"role\": \"user\", \"content\": \"Listen to your\"}],\n",
        "                                max_tokens = 2,\n",
        "                                n=5)\n",
        "\n",
        "# print the chat completion\n",
        "for i in range(len(chat_completion.choices)):\n",
        "    print(chat_completion.choices[i].message.content)"
      ]
    },
    {
      "cell_type": "markdown",
      "id": "183ffa97-eb11-4ca9-a8d4-29502ee0cdc6",
      "metadata": {
        "id": "183ffa97-eb11-4ca9-a8d4-29502ee0cdc6"
      },
      "source": [
        "##### temperature"
      ]
    },
    {
      "cell_type": "code",
      "execution_count": 12,
      "id": "638b828b-b323-4cd8-90ea-5106146635a0",
      "metadata": {
        "id": "638b828b-b323-4cd8-90ea-5106146635a0",
        "outputId": "889f281f-0dfe-4c0c-e76b-5f4263698a34",
        "colab": {
          "base_uri": "https://localhost:8080/"
        }
      },
      "outputs": [
        {
          "output_type": "stream",
          "name": "stdout",
          "text": [
            "heart.\n",
            "heart.\n",
            "heart.\n",
            "heart.\n",
            "heart.\n"
          ]
        }
      ],
      "source": [
        "# create a chat completion\n",
        "chat_completion = openai.ChatCompletion.create(model=\"gpt-3.5-turbo\",\n",
        "                                messages=[{\"role\": \"user\", \"content\": \"Listen to your\"}],\n",
        "                                max_tokens = 2,\n",
        "                                n=5,\n",
        "                                temperature=0)\n",
        "\n",
        "# print the chat completion\n",
        "for i in range(len(chat_completion.choices)):\n",
        "    print(chat_completion.choices[i].message.content)"
      ]
    },
    {
      "cell_type": "code",
      "execution_count": 13,
      "id": "b78dd7ad-5790-441f-981d-60de6c61104d",
      "metadata": {
        "id": "b78dd7ad-5790-441f-981d-60de6c61104d",
        "outputId": "64e360e4-b94f-4ade-e847-423b364780bd",
        "colab": {
          "base_uri": "https://localhost:8080/"
        }
      },
      "outputs": [
        {
          "output_type": "stream",
          "name": "stdout",
          "text": [
            "uisupported\n",
            "inner voice\n",
            "heart birthday\n",
            "broª\n",
            "MPF\n"
          ]
        }
      ],
      "source": [
        "# create a chat completion\n",
        "chat_completion = openai.ChatCompletion.create(model=\"gpt-3.5-turbo\",\n",
        "                                messages=[{\"role\": \"user\", \"content\": \"Listen to your\"}],\n",
        "                                max_tokens = 2,\n",
        "                                n=5,\n",
        "                                temperature=2)\n",
        "\n",
        "# print the chat completion\n",
        "for i in range(len(chat_completion.choices)):\n",
        "    print(chat_completion.choices[i].message.content)"
      ]
    },
    {
      "cell_type": "markdown",
      "id": "cc228536-a0b6-4a7f-81f7-382c3205ee8a",
      "metadata": {
        "tags": [],
        "id": "cc228536-a0b6-4a7f-81f7-382c3205ee8a"
      },
      "source": [
        "### Demo: Lyric Completion Assistant"
      ]
    },
    {
      "cell_type": "code",
      "execution_count": 14,
      "id": "ece8e6a6-ebe0-4ff1-b132-e8bc8759e1e6",
      "metadata": {
        "id": "ece8e6a6-ebe0-4ff1-b132-e8bc8759e1e6"
      },
      "outputs": [],
      "source": [
        "# initial prompt with system message and 2 task examples\n",
        "messages_list = [{\"role\":\"system\", \"content\": \"I am Roxette lyric completion assistant. When given a line from a song, I will provide the next line in the song.\"},\n",
        "                 {\"role\":\"user\", \"content\": \"I know there's something in the wake of your smile\"},\n",
        "                 {\"role\":\"assistant\", \"content\": \"I get a notion from the look in your eyes, yeah\"},\n",
        "                 {\"role\":\"user\", \"content\": \"You've built a love but that love falls apart\"},\n",
        "                 {\"role\":\"assistant\", \"content\": \"Your little piece of Heaven turns too dark\"},\n",
        "                 {\"role\":\"user\", \"content\": \"Listen to your\"}]"
      ]
    },
    {
      "cell_type": "code",
      "execution_count": 15,
      "id": "3b51fdc0-7f91-4524-a27e-739a9fb3f795",
      "metadata": {
        "id": "3b51fdc0-7f91-4524-a27e-739a9fb3f795",
        "outputId": "555f49a1-72bc-4f84-ddba-3be1b9094050",
        "colab": {
          "base_uri": "https://localhost:8080/"
        }
      },
      "outputs": [
        {
          "output_type": "stream",
          "name": "stdout",
          "text": [
            "Heart when he's calling for you\n",
            "Listen to your heart, there's nothing else you can do\n",
            "I don't know where you're going and I don't know why\n",
            "But listen to your heart before you tell him goodbye\n"
          ]
        }
      ],
      "source": [
        "for i in range(4):\n",
        "    # create a chat completion\n",
        "    chat_completion = openai.ChatCompletion.create(model=\"gpt-3.5-turbo\",\n",
        "                                    messages=messages_list,\n",
        "                                    max_tokens = 15,\n",
        "                                    n=1,\n",
        "                                    temperature=0)\n",
        "\n",
        "    # print the chat completion\n",
        "    print(chat_completion.choices[0].message.content)\n",
        "\n",
        "    new_message = {\"role\":\"assistant\", \"content\":chat_completion.choices[0].message.content} # append new message to message list\n",
        "    messages_list.append(new_message)\n",
        "    time.sleep(0.1)"
      ]
    },
    {
      "cell_type": "code",
      "execution_count": 16,
      "id": "4c2168d7-8842-47d0-a7cc-02c5ea505a41",
      "metadata": {
        "id": "4c2168d7-8842-47d0-a7cc-02c5ea505a41"
      },
      "outputs": [],
      "source": [
        "# Actual lyrics:\n",
        "\n",
        "# Listen to your heart when he's calling for you\n",
        "# Listen to your heart, there's nothing else you can do\n",
        "# I don't know where you're going and I don't know why\n",
        "# But listen to your heart before you tell him goodbye"
      ]
    },
    {
      "cell_type": "markdown",
      "source": [
        "## Prompt Engineering"
      ],
      "metadata": {
        "id": "hDYvpnNP2DK8"
      },
      "id": "hDYvpnNP2DK8"
    },
    {
      "cell_type": "markdown",
      "source": [
        "**Some common tips from the community**\n",
        "\n",
        "- Be Descriptive\n",
        "- Give Examples\n",
        "- Be clear and precise\n",
        "- Like talking to an expert friend\n",
        "- Use structured inputs\n",
        "- Let's think step by step\n",
        "- Use Chatbot personas\n",
        "- Encourage the LLM to ask questions\n",
        "- Ask to explain reasoning\n",
        "\n",
        "**Many resources out there. For example:**\n",
        "\n",
        "[OpenAI CookBook](https://cookbook.openai.com/)\n",
        "\n",
        "[Prompt Engineering Guide](https://github.com/dair-ai/Prompt-Engineering-Guide)\n"
      ],
      "metadata": {
        "id": "vrygJCgC3adH"
      },
      "id": "vrygJCgC3adH"
    },
    {
      "cell_type": "code",
      "source": [],
      "metadata": {
        "id": "vq87zVF120Sk"
      },
      "id": "vq87zVF120Sk",
      "execution_count": 16,
      "outputs": []
    }
  ],
  "metadata": {
    "kernelspec": {
      "display_name": "Python 3 (ipykernel)",
      "language": "python",
      "name": "python3"
    },
    "language_info": {
      "codemirror_mode": {
        "name": "ipython",
        "version": 3
      },
      "file_extension": ".py",
      "mimetype": "text/x-python",
      "name": "python",
      "nbconvert_exporter": "python",
      "pygments_lexer": "ipython3",
      "version": "3.9.12"
    },
    "colab": {
      "provenance": []
    }
  },
  "nbformat": 4,
  "nbformat_minor": 5
}